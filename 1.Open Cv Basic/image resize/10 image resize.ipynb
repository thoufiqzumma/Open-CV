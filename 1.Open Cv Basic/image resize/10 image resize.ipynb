{
 "cells": [
  {
   "cell_type": "code",
   "execution_count": 1,
   "metadata": {},
   "outputs": [
    {
     "name": "stdout",
     "output_type": "stream",
     "text": [
      "(1269, 845, 3)\n",
      "(500, 1000, 3)\n"
     ]
    },
    {
     "data": {
      "text/plain": [
       "-1"
      ]
     },
     "execution_count": 1,
     "metadata": {},
     "output_type": "execute_result"
    }
   ],
   "source": [
    "import cv2\n",
    "import numpy as np\n",
    "\n",
    "img = cv2.imread(\"formal pic.jpg\")\n",
    "print(img.shape)\n",
    "\n",
    "imgResize = cv2.resize(img,(1000,500))\n",
    "print(imgResize.shape)\n",
    "\n",
    "imgCropped = img[46:119,352:495]\n",
    "\n",
    "cv2.imshow(\"Image\",img)\n",
    "#cv2.imshow(\"Image Resize\",imgResize)\n",
    "cv2.imshow(\"Image Cropped\",imgCropped)\n",
    "\n",
    "cv2.waitKey(0)"
   ]
  },
  {
   "cell_type": "code",
   "execution_count": null,
   "metadata": {},
   "outputs": [],
   "source": []
  }
 ],
 "metadata": {
  "kernelspec": {
   "display_name": "Python 3",
   "language": "python",
   "name": "python3"
  },
  "language_info": {
   "codemirror_mode": {
    "name": "ipython",
    "version": 3
   },
   "file_extension": ".py",
   "mimetype": "text/x-python",
   "name": "python",
   "nbconvert_exporter": "python",
   "pygments_lexer": "ipython3",
   "version": "3.7.6"
  }
 },
 "nbformat": 4,
 "nbformat_minor": 4
}
