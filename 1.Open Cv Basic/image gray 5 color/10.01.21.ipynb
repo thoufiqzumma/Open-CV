{
 "cells": [
  {
   "cell_type": "code",
   "execution_count": 3,
   "metadata": {},
   "outputs": [
    {
     "data": {
      "text/plain": [
       "-1"
      ]
     },
     "execution_count": 3,
     "metadata": {},
     "output_type": "execute_result"
    }
   ],
   "source": [
    "import cv2\n",
    "import numpy as np\n",
    "\n",
    "img = cv2.imread(\"formal pic.jpg\")\n",
    "kernel = np.ones((5,5),np.uint8)\n",
    "\n",
    "imgGray = cv2.cvtColor(img,cv2.COLOR_BGR2GRAY)\n",
    "imgBlur = cv2.GaussianBlur(imgGray,(7,7),0)\n",
    "imgCanny = cv2.Canny(img,150,200)\n",
    "imgDialation = cv2.dilate(imgCanny,kernel,iterations=1)\n",
    "imgEroded = cv2.erode(imgDialation,kernel,iterations=1)\n",
    "\n",
    "cv2.imshow(\"Gray Image\",imgGray)\n",
    "cv2.imshow(\"Blur Image\",imgBlur)\n",
    "cv2.imshow(\"Canny Image\",imgCanny)\n",
    "cv2.imshow(\"Dialation Image\",imgDialation)\n",
    "cv2.imshow(\"Eroded Image\",imgEroded)\n",
    "cv2.waitKey(0)"
   ]
  },
  {
   "cell_type": "code",
   "execution_count": null,
   "metadata": {},
   "outputs": [],
   "source": []
  }
 ],
 "metadata": {
  "kernelspec": {
   "display_name": "Python 3",
   "language": "python",
   "name": "python3"
  },
  "language_info": {
   "codemirror_mode": {
    "name": "ipython",
    "version": 3
   },
   "file_extension": ".py",
   "mimetype": "text/x-python",
   "name": "python",
   "nbconvert_exporter": "python",
   "pygments_lexer": "ipython3",
   "version": "3.7.6"
  }
 },
 "nbformat": 4,
 "nbformat_minor": 4
}
